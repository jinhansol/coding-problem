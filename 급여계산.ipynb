{
  "nbformat": 4,
  "nbformat_minor": 0,
  "metadata": {
    "colab": {
      "provenance": [],
      "authorship_tag": "ABX9TyNRXP3NS2AfnYQbDF5gbAp9",
      "include_colab_link": true
    },
    "kernelspec": {
      "name": "python3",
      "display_name": "Python 3"
    },
    "language_info": {
      "name": "python"
    }
  },
  "cells": [
    {
      "cell_type": "markdown",
      "metadata": {
        "id": "view-in-github",
        "colab_type": "text"
      },
      "source": [
        "<a href=\"https://colab.research.google.com/github/jinhansol/coding-problem/blob/main/%EA%B8%89%EC%97%AC%EA%B3%84%EC%82%B0.ipynb\" target=\"_parent\"><img src=\"https://colab.research.google.com/assets/colab-badge.svg\" alt=\"Open In Colab\"/></a>"
      ]
    },
    {
      "cell_type": "markdown",
      "source": [
        "11.근무 시간이 12시간 이하일 때의 급여 계산"
      ],
      "metadata": {
        "id": "c9LhvoQVrd0m"
      }
    },
    {
      "cell_type": "code",
      "execution_count": null,
      "metadata": {
        "id": "ayP6ja7Frcdx"
      },
      "outputs": [],
      "source": [
        "def regular_pay(hours, wage):\n",
        "    return hours * wage\n",
        "\n",
        "def overtime_pay(hours, wage, standard_hours=12, overtime_rate=1.3):\n",
        "    overtime_hours = hours - standard_hours\n",
        "    return (standard_hours * wage) + (overtime_hours * wage * overtime_rate)\n",
        "\n",
        "pay_calc = {\n",
        "    True: regular_pay,\n",
        "    False: overtime_pay\n",
        "}\n",
        "\n",
        "hours = float(input(\"주당 총 근무 시간: \"))\n",
        "wage = float(input(\"시간당 급여: \"))\n",
        "\n",
        "total_pay = pay_calc[hours <= 12](hours, wage)\n",
        "print(f\"1주일 급여는 {total_pay:.2f}원 입니다.\")"
      ]
    }
  ]
}