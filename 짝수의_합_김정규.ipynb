{
  "nbformat": 4,
  "nbformat_minor": 0,
  "metadata": {
    "colab": {
      "provenance": [],
      "authorship_tag": "ABX9TyPKvqvl0nbSgv95bVg59dS3",
      "include_colab_link": true
    },
    "kernelspec": {
      "name": "python3",
      "display_name": "Python 3"
    },
    "language_info": {
      "name": "python"
    }
  },
  "cells": [
    {
      "cell_type": "markdown",
      "metadata": {
        "id": "view-in-github",
        "colab_type": "text"
      },
      "source": [
        "<a href=\"https://colab.research.google.com/github/jinhansol/coding-problem/blob/main/%EC%A7%9D%EC%88%98%EC%9D%98_%ED%95%A9_%EA%B9%80%EC%A0%95%EA%B7%9C.ipynb\" target=\"_parent\"><img src=\"https://colab.research.google.com/assets/colab-badge.svg\" alt=\"Open In Colab\"/></a>"
      ]
    },
    {
      "cell_type": "markdown",
      "source": [
        "2. 정수 n을 입력하고 n까지의 짝수의 합"
      ],
      "metadata": {
        "id": "rQgWoc8fomK2"
      }
    },
    {
      "cell_type": "code",
      "execution_count": null,
      "metadata": {
        "id": "WteNjWMHogBZ"
      },
      "outputs": [],
      "source": [
        "answer = 0;\n",
        "n = int(input(\"정수 n 을 입력하세요 :\"));\n",
        "\n",
        "for i in range(1, n + 1):\n",
        "  if i % 2 == 0:\n",
        "    answer += i\n",
        "  else:\n",
        "    continue\n",
        "\n",
        "print(f\"짝수의 합은 : {answer}\")"
      ]
    }
  ]
}