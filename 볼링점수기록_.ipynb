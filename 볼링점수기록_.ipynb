{
  "nbformat": 4,
  "nbformat_minor": 0,
  "metadata": {
    "colab": {
      "provenance": [],
      "authorship_tag": "ABX9TyNf2DoKnfRkIHV+ggxhdaTJ",
      "include_colab_link": true
    },
    "kernelspec": {
      "name": "python3",
      "display_name": "Python 3"
    },
    "language_info": {
      "name": "python"
    }
  },
  "cells": [
    {
      "cell_type": "markdown",
      "metadata": {
        "id": "view-in-github",
        "colab_type": "text"
      },
      "source": [
        "<a href=\"https://colab.research.google.com/github/jinhansol/coding-problem/blob/main/%EB%B3%BC%EB%A7%81%EC%A0%90%EC%88%98%EA%B8%B0%EB%A1%9D_.ipynb\" target=\"_parent\"><img src=\"https://colab.research.google.com/assets/colab-badge.svg\" alt=\"Open In Colab\"/></a>"
      ]
    },
    {
      "cell_type": "markdown",
      "source": [
        "5.볼링 점수 기록장"
      ],
      "metadata": {
        "id": "CT5B6WPUpAdW"
      }
    },
    {
      "cell_type": "code",
      "execution_count": null,
      "metadata": {
        "id": "YpeqCRwuo6SF"
      },
      "outputs": [],
      "source": [
        "scores = []\n",
        "total_score = 0\n",
        "\n",
        "person = input(\"이름을 입력하세요 :\")\n",
        "\n",
        "with open(\"홍길동.txt\", \"w\", encoding = 'utf-8') as f:\n",
        "  f.write(f\"{person}의 볼링 점수\\n\")\n",
        "  for i in range(10):\n",
        "    score = int(input(f\"{i+1}번째 프레임 점수를 입력하세요:\"))\n",
        "    scores.append(score)\n",
        "    f.write(f\"{i+1}프레임: {score}\\n\")\n",
        "    total_score += score\n",
        "\n",
        "    f.write(f\"총점: {total_score}\\n\")\n",
        "\n",
        "  # 총점 출력\n",
        "  print(f\"볼링 총점은: {total_score}\")\n",
        "  8"
      ]
    }
  ]
}