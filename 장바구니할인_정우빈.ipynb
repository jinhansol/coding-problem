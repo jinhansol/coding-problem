{
  "nbformat": 4,
  "nbformat_minor": 0,
  "metadata": {
    "colab": {
      "provenance": [],
      "authorship_tag": "ABX9TyNBXQ9bc5TxS48QQ4sVzBig",
      "include_colab_link": true
    },
    "kernelspec": {
      "name": "python3",
      "display_name": "Python 3"
    },
    "language_info": {
      "name": "python"
    }
  },
  "cells": [
    {
      "cell_type": "markdown",
      "metadata": {
        "id": "view-in-github",
        "colab_type": "text"
      },
      "source": [
        "<a href=\"https://colab.research.google.com/github/jinhansol/coding-problem/blob/main/%EC%9E%A5%EB%B0%94%EA%B5%AC%EB%8B%88%ED%95%A0%EC%9D%B8_%EC%A0%95%EC%9A%B0%EB%B9%88.ipynb\" target=\"_parent\"><img src=\"https://colab.research.google.com/assets/colab-badge.svg\" alt=\"Open In Colab\"/></a>"
      ]
    },
    {
      "cell_type": "markdown",
      "source": [
        "6.장바구니 할인 계산기"
      ],
      "metadata": {
        "id": "V8m1d77vpVOW"
      }
    },
    {
      "cell_type": "code",
      "execution_count": null,
      "metadata": {
        "id": "38ZSkw4kpUsn"
      },
      "outputs": [],
      "source": [
        "total_price = 0\n",
        "market = {\n",
        "    \"돼지고기\": 12000,\n",
        "    \"딸기\": 8000,\n",
        "    \"소고기\": 15000,\n",
        "    \"바나나\": 5000}\n",
        "prices = []\n",
        "\n",
        "while True:\n",
        "  item = input(\"구매할 물건을 입력하세요 (종료하려면 '끝' 입력):\")\n",
        "\n",
        "  if item == \"끝\":\n",
        "    break\n",
        "\n",
        "  if item in market:\n",
        "    quantity = int(input(f\"{item}의 수량을 입력하세요: \"))\n",
        "    if quantity > 0:\n",
        "      item_price = market[item] * quantity\n",
        "      prices.append(item_price)\n",
        "      print(f\"{item} {quantity}개 추가됨: {item_price}원\")\n",
        "  else:\n",
        "    print(f\"{item}은 판매하지 않습니다.\")\n",
        "\n",
        "for price in prices:\n",
        "  if price >= 10000:\n",
        "    price *= 0.9\n",
        "  total_price += int(price)  # if문 밖으로 이동하여 모든 가격을 더함\n",
        "\n",
        "print(\"지불 금액:\", total_price)"
      ]
    }
  ]
}