{
  "nbformat": 4,
  "nbformat_minor": 0,
  "metadata": {
    "colab": {
      "provenance": [],
      "authorship_tag": "ABX9TyMbt3/dZGGjM4vnuwsVyRHA",
      "include_colab_link": true
    },
    "kernelspec": {
      "name": "python3",
      "display_name": "Python 3"
    },
    "language_info": {
      "name": "python"
    }
  },
  "cells": [
    {
      "cell_type": "markdown",
      "metadata": {
        "id": "view-in-github",
        "colab_type": "text"
      },
      "source": [
        "<a href=\"https://colab.research.google.com/github/jinhansol/coding-problem/blob/main/%ED%9C%B4%EA%B0%80_%EA%B3%84%EC%82%B0%EA%B8%B0.ipynb\" target=\"_parent\"><img src=\"https://colab.research.google.com/assets/colab-badge.svg\" alt=\"Open In Colab\"/></a>"
      ]
    },
    {
      "cell_type": "markdown",
      "source": [
        "13. 휴가 계산기"
      ],
      "metadata": {
        "id": "u_BIPdfWrwh2"
      }
    },
    {
      "cell_type": "code",
      "execution_count": null,
      "metadata": {
        "id": "mdTxIjC1rvuq"
      },
      "outputs": [],
      "source": [
        "def vac_day(work_day):\n",
        "    return work_day // 20\n",
        "\n",
        "# 이름과 휴가 일수를 저장할 딕셔너리\n",
        "employees = {}\n",
        "\n",
        "# 직원 정보 입력 받기\n",
        "for _ in range(10):\n",
        "    name = input(\"이름을 입력하세요 (그만하려면 '종료' 입력): \")\n",
        "    if name == \"종료\":\n",
        "        break\n",
        "\n",
        "    work_day = int(input(f\"{name}의 출근 일수를 입력하세요: \"))\n",
        "    vac = vac_day(work_day)\n",
        "\n",
        "    # 딕셔너리에 이름과 휴가 일수 저장\n",
        "    employees[name] = vac\n",
        "\n",
        "# 검색 기능\n",
        "while True:\n",
        "    find = input(\"\\n검색할 이름을 입력하세요 (종료하려면 '종료' 입력): \")\n",
        "    if find == \"종료\":\n",
        "        print(\"검색을 종료합니다.\")\n",
        "        break\n",
        "\n",
        "    if find in employees:\n",
        "        print(f\"{find}의 휴가 일수는 {employees[find]}일입니다.\")\n",
        "    else:\n",
        "        print(f\"{find}은 목록에 없습니다.\")"
      ]
    }
  ]
}