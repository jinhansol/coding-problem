{
  "nbformat": 4,
  "nbformat_minor": 0,
  "metadata": {
    "colab": {
      "provenance": [],
      "authorship_tag": "ABX9TyNyFzp+deaDoPywUVoivXsh",
      "include_colab_link": true
    },
    "kernelspec": {
      "name": "python3",
      "display_name": "Python 3"
    },
    "language_info": {
      "name": "python"
    }
  },
  "cells": [
    {
      "cell_type": "markdown",
      "metadata": {
        "id": "view-in-github",
        "colab_type": "text"
      },
      "source": [
        "<a href=\"https://colab.research.google.com/github/jinhansol/coding-problem/blob/main/%ED%8C%8C%EC%9D%B4%EC%8D%AC_%EC%B9%B4%ED%8E%98_%EC%9D%8C%EB%A3%8C_%EA%B3%84%EC%82%B0%EA%B8%B0_%EA%B9%80%EC%A3%BC%EC%98%81.ipynb\" target=\"_parent\"><img src=\"https://colab.research.google.com/assets/colab-badge.svg\" alt=\"Open In Colab\"/></a>"
      ]
    },
    {
      "cell_type": "markdown",
      "source": [
        "3. 카페 음료 총 가격 계산기"
      ],
      "metadata": {
        "id": "gEQ_5axaneSW"
      }
    },
    {
      "cell_type": "code",
      "execution_count": null,
      "metadata": {
        "id": "2qofhjgUnZRE"
      },
      "outputs": [],
      "source": [
        "# 메뉴와 가격 정보 먼저 정의\n",
        "cafe = {\n",
        "    \"아메리카노\": 1500,\n",
        "    \"카페라떼\": 1800,\n",
        "    \"초코\": 2000\n",
        "}\n",
        "\n",
        "menu = [\"아메리카노\", '카페라떼', '초코']\n",
        "orders = []\n",
        "total_price = 0\n",
        "\n",
        "while True:\n",
        "    order = input(\" 주문 : \")\n",
        "\n",
        "    if order == \"끝\":\n",
        "        break\n",
        "\n",
        "    if order in cafe:\n",
        "        orders.append(order)\n",
        "        total_price += cafe[order]  # 주문한 메뉴의 가격을 합산\n",
        "    else:\n",
        "        print(f\"{order}는 메뉴에 없습니다.\")\n",
        "\n",
        "# 총 결제 금액 출력\n",
        "print(f\"총 결제 금액은 {total_price}원입니다.\")"
      ]
    }
  ]
}