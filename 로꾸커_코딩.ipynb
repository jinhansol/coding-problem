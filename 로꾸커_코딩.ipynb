{
  "nbformat": 4,
  "nbformat_minor": 0,
  "metadata": {
    "colab": {
      "provenance": [],
      "authorship_tag": "ABX9TyNir3YD9Nh273b42fWsV7kh",
      "include_colab_link": true
    },
    "kernelspec": {
      "name": "python3",
      "display_name": "Python 3"
    },
    "language_info": {
      "name": "python"
    }
  },
  "cells": [
    {
      "cell_type": "markdown",
      "metadata": {
        "id": "view-in-github",
        "colab_type": "text"
      },
      "source": [
        "<a href=\"https://colab.research.google.com/github/jinhansol/coding-problem/blob/main/%EB%A1%9C%EA%BE%B8%EC%BB%A4_%EC%BD%94%EB%94%A9.ipynb\" target=\"_parent\"><img src=\"https://colab.research.google.com/assets/colab-badge.svg\" alt=\"Open In Colab\"/></a>"
      ]
    },
    {
      "cell_type": "markdown",
      "source": [
        "12. 로꾸거 코딩"
      ],
      "metadata": {
        "id": "0Kfvdh0brn8e"
      }
    },
    {
      "cell_type": "code",
      "execution_count": null,
      "metadata": {
        "id": "MLGR892SrmIb"
      },
      "outputs": [],
      "source": [
        "def palindrome(text):\n",
        "    # 모두 소문자로 변환\n",
        "    text = text.lower()\n",
        "    # 공백 제거\n",
        "    text = text.replace(\" \", \"\")\n",
        "    # 거꾸로 뒤집은 문자열과 비교\n",
        "    return text == text[::-1]\n",
        "\n",
        "# 사용자 입력 받기\n",
        "A = input(\"팰린드롬을 판별할 문자열을 입력하세요\\n\")\n",
        "# 함수 호출하고 결과 출력\n",
        "result = palindrome(A)\n",
        "print(result)"
      ]
    }
  ]
}