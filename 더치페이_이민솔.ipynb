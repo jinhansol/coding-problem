{
  "nbformat": 4,
  "nbformat_minor": 0,
  "metadata": {
    "colab": {
      "provenance": [],
      "authorship_tag": "ABX9TyPlcbdBRcm1QCIURP/+gbTE",
      "include_colab_link": true
    },
    "kernelspec": {
      "name": "python3",
      "display_name": "Python 3"
    },
    "language_info": {
      "name": "python"
    }
  },
  "cells": [
    {
      "cell_type": "markdown",
      "metadata": {
        "id": "view-in-github",
        "colab_type": "text"
      },
      "source": [
        "<a href=\"https://colab.research.google.com/github/jinhansol/coding-problem/blob/main/%EB%8D%94%EC%B9%98%ED%8E%98%EC%9D%B4_%EC%9D%B4%EB%AF%BC%EC%86%94.ipynb\" target=\"_parent\"><img src=\"https://colab.research.google.com/assets/colab-badge.svg\" alt=\"Open In Colab\"/></a>"
      ]
    },
    {
      "cell_type": "markdown",
      "source": [
        "8.더치페이 프로그램"
      ],
      "metadata": {
        "id": "nlAiRgAEprcd"
      }
    },
    {
      "cell_type": "code",
      "execution_count": null,
      "metadata": {
        "id": "K6B2YOj3pqr8"
      },
      "outputs": [],
      "source": [
        "def dutch_pay_calculator():\n",
        "    # 참여자 리스트\n",
        "    people = [\"김\", \"고\", \"장\", \"백\"]\n",
        "\n",
        "    # 각 장소별 참여 여부를 입력받기\n",
        "    print(\"각 사람이 어느 장소에 참여했는지 입력하세요 (예/아니오 또는 y/n):\")\n",
        "\n",
        "    # 참여 정보를 저장할 딕셔너리\n",
        "    participation = {\n",
        "        \"식당\": [],\n",
        "        \"바\": [],\n",
        "        \"카페\": []\n",
        "    }\n",
        "\n",
        "    # 각 사람별로 장소 참여 여부 입력받기\n",
        "    for person in people:\n",
        "        print(f\"\\n{person}의 참여 정보:\")\n",
        "        for place in participation.keys():\n",
        "            while True:\n",
        "                answer = input(f\"{person}은(는) {place}에 참여했나요? (예/아니오 또는 y/n): \").lower()\n",
        "                if answer in [\"예\", \"y\", \"yes\"]:\n",
        "                    participation[place].append(person)\n",
        "                    break\n",
        "                elif answer in [\"아니오\", \"n\", \"no\"]:\n",
        "                    break\n",
        "                else:\n",
        "                    print(\"잘못된 입력입니다. '예/y' 또는 '아니오/n'로 대답해주세요.\")\n",
        "\n",
        "    # 각 장소별 총 비용 입력받기\n",
        "    costs = {}\n",
        "    for place in participation.keys():\n",
        "        if participation[place]:  # 참여자가 있는 장소만 비용 입력받기\n",
        "            while True:\n",
        "                try:\n",
        "                    cost = int(input(f\"\\n{place}의 총 비용을 입력하세요: \"))\n",
        "                    if cost >= 0:\n",
        "                        costs[place] = cost\n",
        "                        break\n",
        "                    else:\n",
        "                        print(\"0 이상의 금액을 입력해주세요.\")\n",
        "                except ValueError:\n",
        "                    print(\"숫자만 입력해주세요.\")\n",
        "\n",
        "    # 개인별 지불 금액 계산\n",
        "    payments = {person: 0 for person in people}\n",
        "\n",
        "    for place, participants in participation.items():\n",
        "        if participants and place in costs:\n",
        "            cost_per_person = costs[place] / len(participants)\n",
        "            for person in participants:\n",
        "                payments[person] += cost_per_person\n",
        "\n",
        "    # 결과 출력\n",
        "    print(\"장소별 참여자:\")\n",
        "    for place, participants in participation.items():\n",
        "        if participants:\n",
        "            print(f\"{place}: {', '.join(participants)} (총 {len(participants)}명) - 1인당 {costs.get(place, 0) / len(participants):.0f}원\")\n",
        "\n",
        "    print(\"\\n개인별 총 지불 금액:\")\n",
        "    for person, amount in payments.items():\n",
        "        print(f\"{person}: {amount:.0f}원\")\n",
        "\n",
        "# 프로그램 실행\n",
        "if __name__ == \"__main__\":\n",
        "    print(\"더치페이 계산 프로그램을 시작합니다.\")\n",
        "    dutch_pay_calculator()"
      ]
    }
  ]
}