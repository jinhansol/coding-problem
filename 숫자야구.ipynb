{
  "nbformat": 4,
  "nbformat_minor": 0,
  "metadata": {
    "colab": {
      "provenance": [],
      "authorship_tag": "ABX9TyPKOATIhZfkKp1j3s/k4E7V",
      "include_colab_link": true
    },
    "kernelspec": {
      "name": "python3",
      "display_name": "Python 3"
    },
    "language_info": {
      "name": "python"
    }
  },
  "cells": [
    {
      "cell_type": "markdown",
      "metadata": {
        "id": "view-in-github",
        "colab_type": "text"
      },
      "source": [
        "<a href=\"https://colab.research.google.com/github/jinhansol/coding-problem/blob/main/%EC%88%AB%EC%9E%90%EC%95%BC%EA%B5%AC.ipynb\" target=\"_parent\"><img src=\"https://colab.research.google.com/assets/colab-badge.svg\" alt=\"Open In Colab\"/></a>"
      ]
    },
    {
      "cell_type": "markdown",
      "source": [
        "9. 숫자야구 만들기"
      ],
      "metadata": {
        "id": "caIL-oHkrLw8"
      }
    },
    {
      "cell_type": "code",
      "source": [
        "from random import randint\n",
        "\n",
        "\n",
        "def generate_numbers():\n",
        "    numbers = []\n",
        "    i = 0\n",
        "    new_number = 0\n",
        "    while i < 3:\n",
        "        new_number = randint(0, 9)\n",
        "        if new_number not in numbers:\n",
        "            numbers.append(new_number)\n",
        "            i += 1\n",
        "    print(\"0과 9 사이의 서로 다른 숫자 3개를 랜덤한 순서로 뽑았습니다.\\n\")\n",
        "    return numbers\n",
        "\n",
        "\n",
        "def take_guess():\n",
        "    print(\"숫자 3개를 하나씩 차례대로 입력하세요.\")\n",
        "    i = 0\n",
        "    new_guess = []\n",
        "    while i < 3:\n",
        "        gue_number = int(input(\"{}번째 숫자를 입력하세요: \".format(i + 1)))\n",
        "        if gue_number > 9:\n",
        "            print(\"범위를 벗어나는 숫자입니다. 다시 입력하세요.\")\n",
        "            continue\n",
        "        if gue_number in new_guess:\n",
        "            print(\"중복되는 숫자입니다. 다시 입력하세요. \")\n",
        "        else:\n",
        "            new_guess.append(gue_number)\n",
        "            i += 1\n",
        "\n",
        "    return new_guess\n",
        "\n",
        "\n",
        "def get_score(guess, solution):\n",
        "    strike_count = 0\n",
        "    ball_count = 0\n",
        "    i = 0\n",
        "\n",
        "    while i < len(guess):\n",
        "        if guess[i] == solution[i]:\n",
        "            strike_count += 1\n",
        "            i += 1\n",
        "        elif guess[i] in solution:\n",
        "            ball_count += 1\n",
        "            i += 1\n",
        "        else:\n",
        "            i += 1\n",
        "\n",
        "    return strike_count, ball_count\n",
        "\n",
        "\n",
        "# 여기서부터 게임 시작!\n",
        "ANSWER = generate_numbers()\n",
        "tries = 0\n",
        "\n",
        "while 1:\n",
        "    GUESS = take_guess()\n",
        "    strike, ball = get_score(GUESS, ANSWER)\n",
        "    print(\"{}S {}B \".format(strike, ball))\n",
        "\n",
        "    if strike == 3:\n",
        "        tries += 1\n",
        "        break\n",
        "    else:\n",
        "        tries += 1\n",
        "\n",
        "print(\"축하합니다. {}번 만에 숫자 3개의 값과 위치를 모두 맞추셨습니다.\".format(tries))"
      ],
      "metadata": {
        "id": "CqRwGX-LrLHN"
      },
      "execution_count": null,
      "outputs": []
    }
  ]
}