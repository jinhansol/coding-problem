{
  "nbformat": 4,
  "nbformat_minor": 0,
  "metadata": {
    "colab": {
      "provenance": [],
      "authorship_tag": "ABX9TyMFRDA1gsRN3ZZhnqmk2do6",
      "include_colab_link": true
    },
    "kernelspec": {
      "name": "python3",
      "display_name": "Python 3"
    },
    "language_info": {
      "name": "python"
    }
  },
  "cells": [
    {
      "cell_type": "markdown",
      "metadata": {
        "id": "view-in-github",
        "colab_type": "text"
      },
      "source": [
        "<a href=\"https://colab.research.google.com/github/jinhansol/coding-problem/blob/main/%EB%B0%B0%EC%97%B4%EB%AC%B8%EC%9E%A5%EB%A7%8C%EB%93%A4%EA%B8%B0_%EC%9C%A4%EC%84%B1%ED%97%8C.ipynb\" target=\"_parent\"><img src=\"https://colab.research.google.com/assets/colab-badge.svg\" alt=\"Open In Colab\"/></a>"
      ]
    },
    {
      "cell_type": "markdown",
      "source": [
        "7.배열 잘라 문장 만들기"
      ],
      "metadata": {
        "id": "dl3ZJHKepgOf"
      }
    },
    {
      "cell_type": "code",
      "execution_count": null,
      "metadata": {
        "id": "CPlrcQgMpejK"
      },
      "outputs": [],
      "source": [
        "def hidden_word(words, slices):\n",
        "    words = [\"apocalypse\", \"meteorology\", \"architect\", \"cheetah\"]\n",
        "    slices = [[(2, 3), (6, 7)],[(3, 4)],[(3, 4)],[(0, 1)]]\n",
        "    answer = \"\"\n",
        "\n",
        "    for i in range(len(words)):\n",
        "        word = words[i]\n",
        "        for start, end in slices[i]:\n",
        "            substring = word[start-1:end]\n",
        "            answer += substring\n",
        "\n",
        "    return answer\n",
        "\n",
        "print(hidden_word(None, None))"
      ]
    }
  ]
}