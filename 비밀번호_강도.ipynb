{
  "nbformat": 4,
  "nbformat_minor": 0,
  "metadata": {
    "colab": {
      "provenance": [],
      "authorship_tag": "ABX9TyMilWKxYSfAiXCnaMWtvmQD",
      "include_colab_link": true
    },
    "kernelspec": {
      "name": "python3",
      "display_name": "Python 3"
    },
    "language_info": {
      "name": "python"
    }
  },
  "cells": [
    {
      "cell_type": "markdown",
      "metadata": {
        "id": "view-in-github",
        "colab_type": "text"
      },
      "source": [
        "<a href=\"https://colab.research.google.com/github/jinhansol/coding-problem/blob/main/%EB%B9%84%EB%B0%80%EB%B2%88%ED%98%B8_%EA%B0%95%EB%8F%84.ipynb\" target=\"_parent\"><img src=\"https://colab.research.google.com/assets/colab-badge.svg\" alt=\"Open In Colab\"/></a>"
      ]
    },
    {
      "cell_type": "markdown",
      "source": [
        "사용자가 입력한 비밀번호의 강도를 검사하는 프로그램을 작성하세요.\n",
        "\n",
        "강도 평가는 여러 조건을 기준으로 점수를 부여하고, 점수에 따라 \"강함\", \"보통\", \"약함\"으로 평가합니다."
      ],
      "metadata": {
        "id": "UsLTcgizlmwe"
      }
    },
    {
      "cell_type": "code",
      "execution_count": 1,
      "metadata": {
        "colab": {
          "base_uri": "https://localhost:8080/"
        },
        "id": "H41jEDc0g09A",
        "outputId": "35fa4869-be62-4e21-cd22-2b5f4b5d19ae"
      },
      "outputs": [
        {
          "output_type": "stream",
          "name": "stdout",
          "text": [
            "비밀번호를 입력하세요 :Aa123456\n",
            "✔ 길이 8자 이상\n",
            "✔ 숫자 포함\n",
            "✔ 대문자 포함\n",
            "✔ 소문자 포함\n",
            "비밀번호 강도: 강함\n"
          ]
        }
      ],
      "source": [
        "score = 0\n",
        "\n",
        "password = (input(\"비밀번호를 입력하세요 :\"))\n",
        "\n",
        "if len(password) >= 8:\n",
        "  score += 2\n",
        "  print(\"✔ 길이 8자 이상\")\n",
        "else:\n",
        "    print(\"✖ 길이 8자 미만\")\n",
        "if any(char.isdigit() for char in password):\n",
        "  score += 2\n",
        "  print(\"✔ 숫자 포함\")\n",
        "else:\n",
        "    print(\"✖ 숫자 없음\")\n",
        "if any(str.isupper() for str in password):\n",
        "  score += 1\n",
        "  print(\"✔ 대문자 포함\")\n",
        "else:\n",
        "    print(\"✖ 대문자 없음\")\n",
        "if any(str.islower() for str in password):\n",
        "  score += 1\n",
        "  print(\"✔ 소문자 포함\")\n",
        "else:\n",
        "    print(\"✖ 소문자 없음\")\n",
        "\n",
        "if score >= 6:\n",
        "  print(\"비밀번호 강도: 강함\")\n",
        "elif score >= 4:\n",
        "  print(\"비밀번호 강도: 보통\")\n",
        "else:\n",
        "  print(\"비밀번호 강도: 약함\")"
      ]
    }
  ]
}