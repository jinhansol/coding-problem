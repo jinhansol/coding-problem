{
  "nbformat": 4,
  "nbformat_minor": 0,
  "metadata": {
    "colab": {
      "provenance": [],
      "authorship_tag": "ABX9TyNZe+qD2fRQFcMdeDDP7mDR",
      "include_colab_link": true
    },
    "kernelspec": {
      "name": "python3",
      "display_name": "Python 3"
    },
    "language_info": {
      "name": "python"
    }
  },
  "cells": [
    {
      "cell_type": "markdown",
      "metadata": {
        "id": "view-in-github",
        "colab_type": "text"
      },
      "source": [
        "<a href=\"https://colab.research.google.com/github/jinhansol/coding-problem/blob/main/%EC%8B%A0%EC%9A%A9%EC%B9%B4%EB%93%9C_%EB%B2%88%ED%98%B8_%EB%A7%8C%EB%93%A4%EA%B8%B0_%EB%B0%95%EC%B0%BD%EC%A7%84.ipynb\" target=\"_parent\"><img src=\"https://colab.research.google.com/assets/colab-badge.svg\" alt=\"Open In Colab\"/></a>"
      ]
    },
    {
      "cell_type": "markdown",
      "source": [
        "4. 신용카드 번호 만들기"
      ],
      "metadata": {
        "id": "WpHGBhxOoPnN"
      }
    },
    {
      "cell_type": "code",
      "execution_count": null,
      "metadata": {
        "id": "ULM7CxI4oMat"
      },
      "outputs": [],
      "source": [
        "card_number = int(input(\" 입력받을 카드 번호의 갯수 : \"))\n",
        "\n",
        "for i in range(card_number):\n",
        "  num_input = input(\"카드 번호를 입력하세요 (예: 1234-5678-9123-4567):\")\n",
        "\n",
        "  num = \"\"\n",
        "  sign = True #기호\n",
        "\n",
        "  for c in num_input:\n",
        "    if c.isdigit():\n",
        "      num += c\n",
        "    elif c == '-':\n",
        "      continue\n",
        "    else:\n",
        "      sign = False\n",
        "      break\n",
        "\n",
        "  if len(num) != 16:\n",
        "    print(\"Invalid\")\n",
        "    continue\n",
        "\n",
        "  if num[0] not in ['4', '5', '6']:\n",
        "    print(\"Invalid\")\n",
        "    continue\n",
        "\n",
        "  if not num.isdigit():\n",
        "    print(\"Invalid\")\n",
        "    continue\n",
        "\n",
        "  if not sign:\n",
        "    print(\"Invalid\")\n",
        "    continue\n",
        "\n",
        "  count = 1 #연속횟수\n",
        "  effect = True #유효\n",
        "\n",
        "  for i in range(1, len(num)):\n",
        "    if num[i] == num[i-1]:\n",
        "      count += 1\n",
        "      if count >= 4:\n",
        "        effect = False\n",
        "        break\n",
        "      else:\n",
        "        count = 1\n",
        "\n",
        "  if not effect:\n",
        "    print(\"Invalid\")\n",
        "    continue\n",
        "\n",
        "  print(\"Valid\")"
      ]
    }
  ]
}