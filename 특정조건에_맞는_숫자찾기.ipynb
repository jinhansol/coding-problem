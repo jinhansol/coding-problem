{
  "nbformat": 4,
  "nbformat_minor": 0,
  "metadata": {
    "colab": {
      "provenance": [],
      "authorship_tag": "ABX9TyMknsi0348Cfnj6lfbL8rRa",
      "include_colab_link": true
    },
    "kernelspec": {
      "name": "python3",
      "display_name": "Python 3"
    },
    "language_info": {
      "name": "python"
    }
  },
  "cells": [
    {
      "cell_type": "markdown",
      "metadata": {
        "id": "view-in-github",
        "colab_type": "text"
      },
      "source": [
        "<a href=\"https://colab.research.google.com/github/jinhansol/coding-problem/blob/main/%ED%8A%B9%EC%A0%95%EC%A1%B0%EA%B1%B4%EC%97%90_%EB%A7%9E%EB%8A%94_%EC%88%AB%EC%9E%90%EC%B0%BE%EA%B8%B0.ipynb\" target=\"_parent\"><img src=\"https://colab.research.google.com/assets/colab-badge.svg\" alt=\"Open In Colab\"/></a>"
      ]
    },
    {
      "cell_type": "markdown",
      "source": [
        "10.특정 조건에 맞는 숫자 찾기"
      ],
      "metadata": {
        "id": "UPLdzxSmrUE2"
      }
    },
    {
      "cell_type": "code",
      "execution_count": null,
      "metadata": {
        "id": "nDlloT6MrTWs"
      },
      "outputs": [],
      "source": [
        "def find_numbers(n):\n",
        "    result = []\n",
        "    for i in range(1, n+1):\n",
        "        if i % 3 == 0 and i % 2 != 0:\n",
        "            result.append(i)\n",
        "    return result"
      ]
    }
  ]
}